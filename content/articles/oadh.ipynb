{
 "cells": [
  {
   "cell_type": "markdown",
   "metadata": {},
   "source": [
    "- title: Seciond\n",
    "- date: 2019-06-21 12:00\n",
    "- category: hdaho\n",
    "- tags: tool, software, best\n",
    "- slug: dzatool\n",
    "- authors: Jon Doe\n",
    "- summary: <img src=\"/images/antoine.JPG\"/> This is the most important tool out there\n",
    "- Cover: images/testJO.png\n",
    "- og_image: images/antoine.JPG"
   ]
  },
  {
   "cell_type": "markdown",
   "metadata": {},
   "source": [
    "\\begin{align}\n",
    "\\nabla \\cdot \\vec{\\mathbf{E}} & = 4 \\pi \\rho \\\\\n",
    "\\nabla \\times \\vec{\\mathbf{E}}\\, +\\, \\frac1c\\, \\frac{\\partial\\vec{\\mathbf{B}}}{\\partial t} & = \\vec{\\mathbf{0}} \\\\\n",
    "\\nabla \\cdot \\vec{\\mathbf{B}} & = 0\n",
    "\\end{align}"
   ]
  },
  {
   "cell_type": "markdown",
   "metadata": {},
   "source": [
    "# EM Algorithm"
   ]
  },
  {
   "cell_type": "markdown",
   "metadata": {},
   "source": [
    "<img src=\"/images/testJO.png\" align=\"left\" width=\"50\" style=\"padding-right:20px;\"/>"
   ]
  },
  {
   "cell_type": "markdown",
   "metadata": {},
   "source": [
    "# Variational Inference"
   ]
  },
  {
   "cell_type": "markdown",
   "metadata": {},
   "source": [
    " - If we don't have a prior conjugate to the likelihood -> posterior is intractable"
   ]
  },
  {
   "cell_type": "markdown",
   "metadata": {},
   "source": [
    "### Summary ###\n",
    "Here are the timing results we've seen above:\n",
    "\n",
    "- **Python + numpy**: 6510 ms\n",
    "- **Cython + numpy**: 668 ms\n",
    "- **Cython + memviews (slicing)**: 22 ms\n",
    "- **Cython + raw pointers**: 2.47 ms\n",
    "- **Cython + memviews (no slicing)**: 2.45 ms"
   ]
  },
  {
   "cell_type": "markdown",
   "metadata": {},
   "source": [
    "**Update**: All of the above scripts are now available as an ipython\n",
    "notebook: [memview_bench.ipynb](/downloads/notebooks/memview_bench.ipynb).\n",
    "For information on how to view this file, see the\n",
    "[IPython page](http://ipython.org/ipython-doc/dev/interactive/htmlnotebook.html)\n",
    "Alternatively, you can view this notebook (but not modify it) using the\n",
    "nbviewer [here](http://nbviewer.ipython.org/url/jakevdp.github.com/downloads/notebooks/memview_bench.ipynb)."
   ]
  }
 ],
 "metadata": {
  "kernelspec": {
   "display_name": "Python 3",
   "language": "python",
   "name": "python3"
  },
  "language_info": {
   "codemirror_mode": {
    "name": "ipython",
    "version": 3
   },
   "file_extension": ".py",
   "mimetype": "text/x-python",
   "name": "python",
   "nbconvert_exporter": "python",
   "pygments_lexer": "ipython3",
   "version": "3.7.3"
  }
 },
 "nbformat": 4,
 "nbformat_minor": 2
}
