{
 "cells": [
  {
   "cell_type": "markdown",
   "metadata": {},
   "source": [
    "- title: This is the Best Tool so far\n",
    "- date: 2019-06-21 12:00\n",
    "- category: tools\n",
    "- tags: tool, software, best\n",
    "- slug: best-tool\n",
    "- authors: Jon Doe\n",
    "- summary: This is the most important tool out there"
   ]
  },
  {
   "cell_type": "markdown",
   "metadata": {},
   "source": [
    "# problems with computing the MAP"
   ]
  },
  {
   "cell_type": "markdown",
   "metadata": {},
   "source": [
    "- Non invariant to reparametrization\n",
    "- Maybe not enough density probability arround the point and imply a bad estimates\n",
    "- We need to avoid computing the evidence, cannot compute the Expection a posteriori or the median\n",
    "- We cannot compute confidence interval"
   ]
  },
  {
   "cell_type": "markdown",
   "metadata": {},
   "source": [
    "# Aletrnative Use Conjugate distribution"
   ]
  },
  {
   "cell_type": "markdown",
   "metadata": {},
   "source": [
    " How to not compute the evidence but not reducing our parameters solution to a MAP estimate ?\n",
    " - Prior and prosterior are in the same family of distribution if we pick a prior conjugate to our likelihood\n",
    " - Exemple Gamma Distribution with Normal likelihood\n",
    " - Beta distribution with Bernouilli likelihood"
   ]
  },
  {
   "cell_type": "markdown",
   "metadata": {},
   "source": [
    "- Pro: We get an exact posterior\n",
    "- We can do online learning\n",
    "\n",
    "Cons: The conjugate prior might be inadequete"
   ]
  },
  {
   "cell_type": "markdown",
   "metadata": {},
   "source": [
    "``` python\n",
    "# memview_bench_v1.py\n",
    "import numpy as np\n",
    "\n",
    "def euclidean_distance(x1, x2):\n",
    "    x1 = np.asarray(x1)\n",
    "    x2 = np.asarray(x2)\n",
    "    return np.sqrt(np.sum((x1 - x2) ** 2))\n",
    "```"
   ]
  }
 ],
 "metadata": {
  "kernelspec": {
   "display_name": "Python 3",
   "language": "python",
   "name": "python3"
  },
  "language_info": {
   "codemirror_mode": {
    "name": "ipython",
    "version": 3
   },
   "file_extension": ".py",
   "mimetype": "text/x-python",
   "name": "python",
   "nbconvert_exporter": "python",
   "pygments_lexer": "ipython3",
   "version": "3.7.3"
  }
 },
 "nbformat": 4,
 "nbformat_minor": 2
}
