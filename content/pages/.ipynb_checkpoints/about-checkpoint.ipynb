{
 "cells": [
  {
   "cell_type": "markdown",
   "metadata": {},
   "source": [
    "- title: about\n",
    "- date: 2019-06-21 12:00\n",
    "- category: hdaho\n",
    "- tags: tool, software, best\n",
    "- slug: about\n",
    "- authors: Jon Doe"
   ]
  },
  {
   "cell_type": "markdown",
   "metadata": {},
   "source": [
    "<img src=\"/images/antoine.JPG\" align=\"left\" width=\"200\" style=\"padding-right:20px;\"/>\n",
    "My name is Antoine Charlet.\n",
    "I am an engineer by training, and currently consulting for compagnies to help them leverage their data by building model and AI-like system.\n",
    "I spend time on research, teaching, and developing software tools for science.\n",
    "<br clear=\"left\"/>\n",
    "\n",
    "Thanks for visiting!"
   ]
  }
 ],
 "metadata": {
  "kernelspec": {
   "display_name": "Python 3",
   "language": "python",
   "name": "python3"
  },
  "language_info": {
   "codemirror_mode": {
    "name": "ipython",
    "version": 3
   },
   "file_extension": ".py",
   "mimetype": "text/x-python",
   "name": "python",
   "nbconvert_exporter": "python",
   "pygments_lexer": "ipython3",
   "version": "3.7.3"
  }
 },
 "nbformat": 4,
 "nbformat_minor": 2
}
